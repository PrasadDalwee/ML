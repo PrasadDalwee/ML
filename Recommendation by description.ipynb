{
 "cells": [
  {
   "cell_type": "code",
   "execution_count": 1,
   "id": "257cb51a",
   "metadata": {},
   "outputs": [
    {
     "data": {
      "text/html": [
       "<div>\n",
       "<style scoped>\n",
       "    .dataframe tbody tr th:only-of-type {\n",
       "        vertical-align: middle;\n",
       "    }\n",
       "\n",
       "    .dataframe tbody tr th {\n",
       "        vertical-align: top;\n",
       "    }\n",
       "\n",
       "    .dataframe thead th {\n",
       "        text-align: right;\n",
       "    }\n",
       "</style>\n",
       "<table border=\"1\" class=\"dataframe\">\n",
       "  <thead>\n",
       "    <tr style=\"text-align: right;\">\n",
       "      <th></th>\n",
       "      <th>uniq_id</th>\n",
       "      <th>product_name</th>\n",
       "      <th>manufacturer</th>\n",
       "      <th>price</th>\n",
       "      <th>number_available_in_stock</th>\n",
       "      <th>number_of_reviews</th>\n",
       "      <th>number_of_answered_questions</th>\n",
       "      <th>average_review_rating</th>\n",
       "      <th>amazon_category_and_sub_category</th>\n",
       "      <th>customers_who_bought_this_item_also_bought</th>\n",
       "      <th>description</th>\n",
       "      <th>product_information</th>\n",
       "      <th>product_description</th>\n",
       "      <th>items_customers_buy_after_viewing_this_item</th>\n",
       "      <th>customer_questions_and_answers</th>\n",
       "      <th>customer_reviews</th>\n",
       "      <th>sellers</th>\n",
       "    </tr>\n",
       "  </thead>\n",
       "  <tbody>\n",
       "    <tr>\n",
       "      <th>0</th>\n",
       "      <td>eac7efa5dbd3d667f26eb3d3ab504464</td>\n",
       "      <td>Hornby 2014 Catalogue</td>\n",
       "      <td>Hornby</td>\n",
       "      <td>£3.42</td>\n",
       "      <td>5 new</td>\n",
       "      <td>15</td>\n",
       "      <td>1.0</td>\n",
       "      <td>4.9 out of 5 stars</td>\n",
       "      <td>Hobbies &gt; Model Trains &amp; Railway Sets &gt; Rail V...</td>\n",
       "      <td>http://www.amazon.co.uk/Hornby-R8150-Catalogue...</td>\n",
       "      <td>Product Description Hornby 2014 Catalogue Box ...</td>\n",
       "      <td>Technical Details Item Weight640 g Product Dim...</td>\n",
       "      <td>Product Description Hornby 2014 Catalogue Box ...</td>\n",
       "      <td>http://www.amazon.co.uk/Hornby-R8150-Catalogue...</td>\n",
       "      <td>Does this catalogue detail all the previous Ho...</td>\n",
       "      <td>Worth Buying For The Pictures Alone (As Ever) ...</td>\n",
       "      <td>{\"seller\"=&gt;[{\"Seller_name_1\"=&gt;\"Amazon.co.uk\", ...</td>\n",
       "    </tr>\n",
       "    <tr>\n",
       "      <th>1</th>\n",
       "      <td>b17540ef7e86e461d37f3ae58b7b72ac</td>\n",
       "      <td>FunkyBuys® Large Christmas Holiday Express Fes...</td>\n",
       "      <td>FunkyBuys</td>\n",
       "      <td>£16.99</td>\n",
       "      <td>NaN</td>\n",
       "      <td>2</td>\n",
       "      <td>1.0</td>\n",
       "      <td>4.5 out of 5 stars</td>\n",
       "      <td>Hobbies &gt; Model Trains &amp; Railway Sets &gt; Rail V...</td>\n",
       "      <td>http://www.amazon.co.uk/Christmas-Holiday-Expr...</td>\n",
       "      <td>Size Name:Large FunkyBuys® Large Christmas Hol...</td>\n",
       "      <td>Technical Details Manufacturer recommended age...</td>\n",
       "      <td>Size Name:Large FunkyBuys® Large Christmas Hol...</td>\n",
       "      <td>http://www.amazon.co.uk/Christmas-Holiday-Expr...</td>\n",
       "      <td>can you turn off sounds // hi no you cant turn...</td>\n",
       "      <td>Four Stars // 4.0 // 18 Dec. 2015 // By\\n    \\...</td>\n",
       "      <td>{\"seller\"=&gt;{\"Seller_name_1\"=&gt;\"UHD WHOLESALE\", ...</td>\n",
       "    </tr>\n",
       "    <tr>\n",
       "      <th>2</th>\n",
       "      <td>348f344247b0c1a935b1223072ef9d8a</td>\n",
       "      <td>CLASSIC TOY TRAIN SET TRACK CARRIAGES LIGHT EN...</td>\n",
       "      <td>ccf</td>\n",
       "      <td>£9.99</td>\n",
       "      <td>2 new</td>\n",
       "      <td>17</td>\n",
       "      <td>2.0</td>\n",
       "      <td>3.9 out of 5 stars</td>\n",
       "      <td>Hobbies &gt; Model Trains &amp; Railway Sets &gt; Rail V...</td>\n",
       "      <td>http://www.amazon.co.uk/Classic-Train-Lights-B...</td>\n",
       "      <td>BIG CLASSIC TOY TRAIN SET TRACK CARRIAGE LIGHT...</td>\n",
       "      <td>Technical Details Manufacturer recommended age...</td>\n",
       "      <td>BIG CLASSIC TOY TRAIN SET TRACK CARRIAGE LIGHT...</td>\n",
       "      <td>http://www.amazon.co.uk/Train-With-Tracks-Batt...</td>\n",
       "      <td>What is the gauge of the track // Hi Paul.Trut...</td>\n",
       "      <td>**Highly Recommended!** // 5.0 // 26 May 2015 ...</td>\n",
       "      <td>{\"seller\"=&gt;[{\"Seller_name_1\"=&gt;\"DEAL-BOX\", \"Sel...</td>\n",
       "    </tr>\n",
       "    <tr>\n",
       "      <th>3</th>\n",
       "      <td>e12b92dbb8eaee78b22965d2a9bbbd9f</td>\n",
       "      <td>HORNBY Coach R4410A BR Hawksworth Corridor 3rd</td>\n",
       "      <td>Hornby</td>\n",
       "      <td>£39.99</td>\n",
       "      <td>NaN</td>\n",
       "      <td>1</td>\n",
       "      <td>2.0</td>\n",
       "      <td>5.0 out of 5 stars</td>\n",
       "      <td>Hobbies &gt; Model Trains &amp; Railway Sets &gt; Rail V...</td>\n",
       "      <td>NaN</td>\n",
       "      <td>Hornby 00 Gauge BR Hawksworth 3rd Class W 2107...</td>\n",
       "      <td>Technical Details Item Weight259 g Product Dim...</td>\n",
       "      <td>Hornby 00 Gauge BR Hawksworth 3rd Class W 2107...</td>\n",
       "      <td>NaN</td>\n",
       "      <td>NaN</td>\n",
       "      <td>I love it // 5.0 // 22 July 2013 // By\\n    \\n...</td>\n",
       "      <td>NaN</td>\n",
       "    </tr>\n",
       "    <tr>\n",
       "      <th>4</th>\n",
       "      <td>e33a9adeed5f36840ccc227db4682a36</td>\n",
       "      <td>Hornby 00 Gauge 0-4-0 Gildenlow Salt Co. Steam...</td>\n",
       "      <td>Hornby</td>\n",
       "      <td>£32.19</td>\n",
       "      <td>NaN</td>\n",
       "      <td>3</td>\n",
       "      <td>2.0</td>\n",
       "      <td>4.7 out of 5 stars</td>\n",
       "      <td>Hobbies &gt; Model Trains &amp; Railway Sets &gt; Rail V...</td>\n",
       "      <td>http://www.amazon.co.uk/Hornby-R6367-RailRoad-...</td>\n",
       "      <td>Product Description Hornby RailRoad 0-4-0 Gild...</td>\n",
       "      <td>Technical Details Item Weight159 g Product Dim...</td>\n",
       "      <td>Product Description Hornby RailRoad 0-4-0 Gild...</td>\n",
       "      <td>http://www.amazon.co.uk/Hornby-R2672-RailRoad-...</td>\n",
       "      <td>NaN</td>\n",
       "      <td>Birthday present // 5.0 // 14 April 2014 // By...</td>\n",
       "      <td>NaN</td>\n",
       "    </tr>\n",
       "  </tbody>\n",
       "</table>\n",
       "</div>"
      ],
      "text/plain": [
       "                            uniq_id  \\\n",
       "0  eac7efa5dbd3d667f26eb3d3ab504464   \n",
       "1  b17540ef7e86e461d37f3ae58b7b72ac   \n",
       "2  348f344247b0c1a935b1223072ef9d8a   \n",
       "3  e12b92dbb8eaee78b22965d2a9bbbd9f   \n",
       "4  e33a9adeed5f36840ccc227db4682a36   \n",
       "\n",
       "                                        product_name manufacturer   price  \\\n",
       "0                              Hornby 2014 Catalogue       Hornby   £3.42   \n",
       "1  FunkyBuys® Large Christmas Holiday Express Fes...    FunkyBuys  £16.99   \n",
       "2  CLASSIC TOY TRAIN SET TRACK CARRIAGES LIGHT EN...          ccf   £9.99   \n",
       "3     HORNBY Coach R4410A BR Hawksworth Corridor 3rd       Hornby  £39.99   \n",
       "4  Hornby 00 Gauge 0-4-0 Gildenlow Salt Co. Steam...       Hornby  £32.19   \n",
       "\n",
       "  number_available_in_stock number_of_reviews  number_of_answered_questions  \\\n",
       "0                     5 new                15                           1.0   \n",
       "1                       NaN                 2                           1.0   \n",
       "2                     2 new                17                           2.0   \n",
       "3                       NaN                 1                           2.0   \n",
       "4                       NaN                 3                           2.0   \n",
       "\n",
       "  average_review_rating                   amazon_category_and_sub_category  \\\n",
       "0    4.9 out of 5 stars  Hobbies > Model Trains & Railway Sets > Rail V...   \n",
       "1    4.5 out of 5 stars  Hobbies > Model Trains & Railway Sets > Rail V...   \n",
       "2    3.9 out of 5 stars  Hobbies > Model Trains & Railway Sets > Rail V...   \n",
       "3    5.0 out of 5 stars  Hobbies > Model Trains & Railway Sets > Rail V...   \n",
       "4    4.7 out of 5 stars  Hobbies > Model Trains & Railway Sets > Rail V...   \n",
       "\n",
       "          customers_who_bought_this_item_also_bought  \\\n",
       "0  http://www.amazon.co.uk/Hornby-R8150-Catalogue...   \n",
       "1  http://www.amazon.co.uk/Christmas-Holiday-Expr...   \n",
       "2  http://www.amazon.co.uk/Classic-Train-Lights-B...   \n",
       "3                                                NaN   \n",
       "4  http://www.amazon.co.uk/Hornby-R6367-RailRoad-...   \n",
       "\n",
       "                                         description  \\\n",
       "0  Product Description Hornby 2014 Catalogue Box ...   \n",
       "1  Size Name:Large FunkyBuys® Large Christmas Hol...   \n",
       "2  BIG CLASSIC TOY TRAIN SET TRACK CARRIAGE LIGHT...   \n",
       "3  Hornby 00 Gauge BR Hawksworth 3rd Class W 2107...   \n",
       "4  Product Description Hornby RailRoad 0-4-0 Gild...   \n",
       "\n",
       "                                 product_information  \\\n",
       "0  Technical Details Item Weight640 g Product Dim...   \n",
       "1  Technical Details Manufacturer recommended age...   \n",
       "2  Technical Details Manufacturer recommended age...   \n",
       "3  Technical Details Item Weight259 g Product Dim...   \n",
       "4  Technical Details Item Weight159 g Product Dim...   \n",
       "\n",
       "                                 product_description  \\\n",
       "0  Product Description Hornby 2014 Catalogue Box ...   \n",
       "1  Size Name:Large FunkyBuys® Large Christmas Hol...   \n",
       "2  BIG CLASSIC TOY TRAIN SET TRACK CARRIAGE LIGHT...   \n",
       "3  Hornby 00 Gauge BR Hawksworth 3rd Class W 2107...   \n",
       "4  Product Description Hornby RailRoad 0-4-0 Gild...   \n",
       "\n",
       "         items_customers_buy_after_viewing_this_item  \\\n",
       "0  http://www.amazon.co.uk/Hornby-R8150-Catalogue...   \n",
       "1  http://www.amazon.co.uk/Christmas-Holiday-Expr...   \n",
       "2  http://www.amazon.co.uk/Train-With-Tracks-Batt...   \n",
       "3                                                NaN   \n",
       "4  http://www.amazon.co.uk/Hornby-R2672-RailRoad-...   \n",
       "\n",
       "                      customer_questions_and_answers  \\\n",
       "0  Does this catalogue detail all the previous Ho...   \n",
       "1  can you turn off sounds // hi no you cant turn...   \n",
       "2  What is the gauge of the track // Hi Paul.Trut...   \n",
       "3                                                NaN   \n",
       "4                                                NaN   \n",
       "\n",
       "                                    customer_reviews  \\\n",
       "0  Worth Buying For The Pictures Alone (As Ever) ...   \n",
       "1  Four Stars // 4.0 // 18 Dec. 2015 // By\\n    \\...   \n",
       "2  **Highly Recommended!** // 5.0 // 26 May 2015 ...   \n",
       "3  I love it // 5.0 // 22 July 2013 // By\\n    \\n...   \n",
       "4  Birthday present // 5.0 // 14 April 2014 // By...   \n",
       "\n",
       "                                             sellers  \n",
       "0  {\"seller\"=>[{\"Seller_name_1\"=>\"Amazon.co.uk\", ...  \n",
       "1  {\"seller\"=>{\"Seller_name_1\"=>\"UHD WHOLESALE\", ...  \n",
       "2  {\"seller\"=>[{\"Seller_name_1\"=>\"DEAL-BOX\", \"Sel...  \n",
       "3                                                NaN  \n",
       "4                                                NaN  "
      ]
     },
     "execution_count": 1,
     "metadata": {},
     "output_type": "execute_result"
    }
   ],
   "source": [
    "import pandas as pd\n",
    "df=pd.read_csv(\"amazon.csv\")\n",
    "df.head()"
   ]
  },
  {
   "cell_type": "code",
   "execution_count": 2,
   "id": "7448f2f6",
   "metadata": {},
   "outputs": [
    {
     "name": "stdout",
     "output_type": "stream",
     "text": [
      "<class 'pandas.core.frame.DataFrame'>\n",
      "RangeIndex: 10000 entries, 0 to 9999\n",
      "Data columns (total 17 columns):\n",
      " #   Column                                       Non-Null Count  Dtype  \n",
      "---  ------                                       --------------  -----  \n",
      " 0   uniq_id                                      10000 non-null  object \n",
      " 1   product_name                                 10000 non-null  object \n",
      " 2   manufacturer                                 9993 non-null   object \n",
      " 3   price                                        8565 non-null   object \n",
      " 4   number_available_in_stock                    7500 non-null   object \n",
      " 5   number_of_reviews                            9982 non-null   object \n",
      " 6   number_of_answered_questions                 9235 non-null   float64\n",
      " 7   average_review_rating                        9982 non-null   object \n",
      " 8   amazon_category_and_sub_category             9310 non-null   object \n",
      " 9   customers_who_bought_this_item_also_bought   8938 non-null   object \n",
      " 10  description                                  9349 non-null   object \n",
      " 11  product_information                          9942 non-null   object \n",
      " 12  product_description                          9349 non-null   object \n",
      " 13  items_customers_buy_after_viewing_this_item  6935 non-null   object \n",
      " 14  customer_questions_and_answers               914 non-null    object \n",
      " 15  customer_reviews                             9979 non-null   object \n",
      " 16  sellers                                      6918 non-null   object \n",
      "dtypes: float64(1), object(16)\n",
      "memory usage: 1.3+ MB\n"
     ]
    }
   ],
   "source": [
    "df.info()"
   ]
  },
  {
   "cell_type": "code",
   "execution_count": 3,
   "id": "6c593681",
   "metadata": {},
   "outputs": [
    {
     "data": {
      "text/plain": [
       "uniq_id                                           0\n",
       "product_name                                      0\n",
       "manufacturer                                      7\n",
       "price                                          1435\n",
       "number_available_in_stock                      2500\n",
       "number_of_reviews                                18\n",
       "number_of_answered_questions                    765\n",
       "average_review_rating                            18\n",
       "amazon_category_and_sub_category                690\n",
       "customers_who_bought_this_item_also_bought     1062\n",
       "description                                     651\n",
       "product_information                              58\n",
       "product_description                             651\n",
       "items_customers_buy_after_viewing_this_item    3065\n",
       "customer_questions_and_answers                 9086\n",
       "customer_reviews                                 21\n",
       "sellers                                        3082\n",
       "dtype: int64"
      ]
     },
     "execution_count": 3,
     "metadata": {},
     "output_type": "execute_result"
    }
   ],
   "source": [
    "df.isna().sum()"
   ]
  },
  {
   "cell_type": "code",
   "execution_count": 4,
   "id": "c4ebb585",
   "metadata": {},
   "outputs": [],
   "source": [
    "import numpy as np\n",
    "import pandas as pd\n",
    "from sklearn.metrics.pairwise import cosine_similarity\n",
    "from sklearn.metrics import mean_squared_error\n",
    "from sklearn.model_selection import train_test_split\n",
    "from sklearn.feature_extraction.text import TfidfVectorizer\n",
    "from sklearn.metrics.pairwise import linear_kernel"
   ]
  },
  {
   "cell_type": "markdown",
   "id": "89d5d1cc",
   "metadata": {},
   "source": [
    "# Recommendation of products based on Description"
   ]
  },
  {
   "cell_type": "code",
   "execution_count": 5,
   "id": "64e5d985",
   "metadata": {},
   "outputs": [
    {
     "data": {
      "text/html": [
       "<div>\n",
       "<style scoped>\n",
       "    .dataframe tbody tr th:only-of-type {\n",
       "        vertical-align: middle;\n",
       "    }\n",
       "\n",
       "    .dataframe tbody tr th {\n",
       "        vertical-align: top;\n",
       "    }\n",
       "\n",
       "    .dataframe thead th {\n",
       "        text-align: right;\n",
       "    }\n",
       "</style>\n",
       "<table border=\"1\" class=\"dataframe\">\n",
       "  <thead>\n",
       "    <tr style=\"text-align: right;\">\n",
       "      <th></th>\n",
       "      <th>description</th>\n",
       "    </tr>\n",
       "  </thead>\n",
       "  <tbody>\n",
       "    <tr>\n",
       "      <th>0</th>\n",
       "      <td>Product Description Hornby 2014 Catalogue Box ...</td>\n",
       "    </tr>\n",
       "    <tr>\n",
       "      <th>1</th>\n",
       "      <td>Size Name:Large FunkyBuys® Large Christmas Hol...</td>\n",
       "    </tr>\n",
       "    <tr>\n",
       "      <th>2</th>\n",
       "      <td>BIG CLASSIC TOY TRAIN SET TRACK CARRIAGE LIGHT...</td>\n",
       "    </tr>\n",
       "    <tr>\n",
       "      <th>3</th>\n",
       "      <td>Hornby 00 Gauge BR Hawksworth 3rd Class W 2107...</td>\n",
       "    </tr>\n",
       "    <tr>\n",
       "      <th>4</th>\n",
       "      <td>Product Description Hornby RailRoad 0-4-0 Gild...</td>\n",
       "    </tr>\n",
       "  </tbody>\n",
       "</table>\n",
       "</div>"
      ],
      "text/plain": [
       "                                         description\n",
       "0  Product Description Hornby 2014 Catalogue Box ...\n",
       "1  Size Name:Large FunkyBuys® Large Christmas Hol...\n",
       "2  BIG CLASSIC TOY TRAIN SET TRACK CARRIAGE LIGHT...\n",
       "3  Hornby 00 Gauge BR Hawksworth 3rd Class W 2107...\n",
       "4  Product Description Hornby RailRoad 0-4-0 Gild..."
      ]
     },
     "execution_count": 5,
     "metadata": {},
     "output_type": "execute_result"
    }
   ],
   "source": [
    "df1 = df[['description']]\n",
    "df1.head()"
   ]
  },
  {
   "cell_type": "code",
   "execution_count": 6,
   "id": "b207e6df",
   "metadata": {},
   "outputs": [
    {
     "name": "stderr",
     "output_type": "stream",
     "text": [
      "C:\\Users\\SHAWNF~1\\AppData\\Local\\Temp/ipykernel_15484/142640653.py:2: SettingWithCopyWarning: \n",
      "A value is trying to be set on a copy of a slice from a DataFrame.\n",
      "Try using .loc[row_indexer,col_indexer] = value instead\n",
      "\n",
      "See the caveats in the documentation: https://pandas.pydata.org/pandas-docs/stable/user_guide/indexing.html#returning-a-view-versus-a-copy\n",
      "  df1['description'] = df1['description'].fillna('')\n"
     ]
    },
    {
     "data": {
      "text/plain": [
       "<10000x30500 sparse matrix of type '<class 'numpy.float64'>'\n",
       "\twith 316256 stored elements in Compressed Sparse Row format>"
      ]
     },
     "execution_count": 6,
     "metadata": {},
     "output_type": "execute_result"
    }
   ],
   "source": [
    "tfidf = TfidfVectorizer(stop_words='english')\n",
    "df1['description'] = df1['description'].fillna('')\n",
    "\n",
    "overview_matrix = tfidf.fit_transform(df1['description'])\n",
    "\n",
    "overview_matrix"
   ]
  },
  {
   "cell_type": "code",
   "execution_count": 7,
   "id": "322bd7ad",
   "metadata": {},
   "outputs": [
    {
     "data": {
      "text/plain": [
       "array([[1.        , 0.        , 0.        , ..., 0.        , 0.        ,\n",
       "        0.        ],\n",
       "       [0.        , 1.        , 0.15582528, ..., 0.        , 0.        ,\n",
       "        0.        ],\n",
       "       [0.        , 0.15582528, 1.        , ..., 0.        , 0.00685409,\n",
       "        0.        ],\n",
       "       ...,\n",
       "       [0.        , 0.        , 0.        , ..., 1.        , 0.01698311,\n",
       "        0.        ],\n",
       "       [0.        , 0.        , 0.00685409, ..., 0.01698311, 1.        ,\n",
       "        0.        ],\n",
       "       [0.        , 0.        , 0.        , ..., 0.        , 0.        ,\n",
       "        0.        ]])"
      ]
     },
     "execution_count": 7,
     "metadata": {},
     "output_type": "execute_result"
    }
   ],
   "source": [
    "similarity_matrix = linear_kernel(overview_matrix,overview_matrix)\n",
    "similarity_matrix"
   ]
  },
  {
   "cell_type": "code",
   "execution_count": 8,
   "id": "5e3ce9c2",
   "metadata": {},
   "outputs": [
    {
     "data": {
      "text/plain": [
       "product_name\n",
       "Hornby 2014 Catalogue                                                                                                        0\n",
       "FunkyBuys® Large Christmas Holiday Express Festive Train Set (SI-TY1017) Toy Light / Sounds / Battery Operated & Smoke       1\n",
       "CLASSIC TOY TRAIN SET TRACK CARRIAGES LIGHT ENGINE BOXED BOYS KIDS BATTERY                                                   2\n",
       "HORNBY Coach R4410A BR Hawksworth Corridor 3rd                                                                               3\n",
       "Hornby 00 Gauge 0-4-0 Gildenlow Salt Co. Steam Locomotive Model                                                              4\n",
       "                                                                                                                          ... \n",
       "Batman 1966 TV Series Action Figures - The Riddler                                                                        9995\n",
       "Star Wars Costume, Kids Stormtrooper Costume Style 4, Medium, HEIGHT 4' 2\" - 4' 6\"                                        9996\n",
       "Defiance Lawkeeper Metal Badge Prop Replica                                                                               9997\n",
       "Justice League of America Series 3 Green Lantern Action Figure                                                            9998\n",
       "Star Wars 1/72 Y-Wing Starfighter                                                                                         9999\n",
       "Length: 10000, dtype: int64"
      ]
     },
     "execution_count": 8,
     "metadata": {},
     "output_type": "execute_result"
    }
   ],
   "source": [
    "mapping = pd.Series(df.index,index = df['product_name'])\n",
    "mapping"
   ]
  },
  {
   "cell_type": "code",
   "execution_count": 9,
   "id": "f3b6e9cd",
   "metadata": {},
   "outputs": [
    {
     "data": {
      "text/plain": [
       "0"
      ]
     },
     "execution_count": 9,
     "metadata": {},
     "output_type": "execute_result"
    }
   ],
   "source": [
    "mapping['Hornby 2014 Catalogue']"
   ]
  },
  {
   "cell_type": "code",
   "execution_count": 10,
   "id": "bd45b5f9",
   "metadata": {},
   "outputs": [],
   "source": [
    "def recommend(df_input):\n",
    "    df_index = mapping[df_input]\n",
    "    similarity_score = list(enumerate(similarity_matrix[df_index]))\n",
    "    similarity_score = sorted(similarity_score, key=lambda x: x[1], reverse=True)\n",
    "    similarity_score = similarity_score[1:15]\n",
    "    df_indices = [i[0] for i in similarity_score]\n",
    "    return (df['product_name'].iloc[df_indices])"
   ]
  },
  {
   "cell_type": "code",
   "execution_count": 11,
   "id": "98112663",
   "metadata": {
    "scrolled": false
   },
   "outputs": [
    {
     "data": {
      "text/plain": [
       "64      Hornby R3064 RailRoad BR Smokey Joe 00 Gauge S...\n",
       "5557    Magic The Gathering MTG Holiday Gift Box 2014 ...\n",
       "5707                                Hornby - Track Rubber\n",
       "5722    Hornby R2675 00 Gauge LNER Flying Scotsman Rai...\n",
       "3339    Rubie's - Toy Story - I-883770S -Buzz Lightyea...\n",
       "9772     Hama - 205-67 - Bag of 6000 Beads 22 Colours Mix\n",
       "5701    Jadlam Racing New HORNBY TRACK R607 8 x DOUBLE...\n",
       "2150    Hot Wheels Monster Jam HW OFF Road Series Brut...\n",
       "4851            Disney Frozen Magical Sticker Book Scenes\n",
       "52                  Hornby Digital 15 V 4 Amp Transformer\n",
       "133     Hornby R1151 Caledonian Belle 00 Gauge Electri...\n",
       "39      Hornby R3086 RailRoad LNER 4-6-2 'Flying Scots...\n",
       "5772                   Hornby RailRoad Wagon BR Horse Box\n",
       "5568    Match Attax 2014/2015 Swansea 17 Base 14/15 Ca...\n",
       "Name: product_name, dtype: object"
      ]
     },
     "execution_count": 11,
     "metadata": {},
     "output_type": "execute_result"
    }
   ],
   "source": [
    "recommend('Hornby 2014 Catalogue')"
   ]
  },
  {
   "cell_type": "code",
   "execution_count": null,
   "id": "ab66f7bc",
   "metadata": {},
   "outputs": [],
   "source": []
  }
 ],
 "metadata": {
  "kernelspec": {
   "display_name": "Python 3 (ipykernel)",
   "language": "python",
   "name": "python3"
  },
  "language_info": {
   "codemirror_mode": {
    "name": "ipython",
    "version": 3
   },
   "file_extension": ".py",
   "mimetype": "text/x-python",
   "name": "python",
   "nbconvert_exporter": "python",
   "pygments_lexer": "ipython3",
   "version": "3.8.11"
  }
 },
 "nbformat": 4,
 "nbformat_minor": 5
}
